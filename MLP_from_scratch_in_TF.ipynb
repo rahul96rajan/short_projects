{
 "cells": [
  {
   "cell_type": "markdown",
   "metadata": {},
   "source": [
    "# Multi Layer Perceptron from Scratch in TensorFlow"
   ]
  },
  {
   "cell_type": "code",
   "execution_count": 1,
   "metadata": {},
   "outputs": [],
   "source": [
    "import tensorflow as tf\n",
    "import numpy as np\n",
    "import matplotlib.pyplot as plt\n",
    "\n",
    "%matplotlib inline\n",
    "\n",
    "import os\n",
    "\n",
    "os.environ['CUDA_VISIBLE_DEVICES'] = '-1'"
   ]
  },
  {
   "cell_type": "markdown",
   "metadata": {},
   "source": [
    "## Creating MLP class"
   ]
  },
  {
   "cell_type": "code",
   "execution_count": 2,
   "metadata": {},
   "outputs": [],
   "source": [
    "class MLP:\n",
    "    def __init__(self, layers):\n",
    "        self.layers = layers\n",
    "        self.L = len(layers)\n",
    "        self.num_features = layers[0]\n",
    "        self.num_classes = layers[-1]\n",
    "        \n",
    "        self.W = {}\n",
    "        self.b = {}\n",
    "        \n",
    "        self.dW = {}\n",
    "        self.db = {}\n",
    "        \n",
    "        self.setup()\n",
    "        \n",
    "    def setup(self):\n",
    "        for i in range(1, self.L):\n",
    "            self.W[i] = tf.Variable(tf.random.normal(shape=(self.layers[i], self.layers[i-1])))\n",
    "            self.b[i] = tf.Variable(tf.random.normal(shape=(self.layers[i], 1)))\n",
    "    \n",
    "    \n",
    "    def forward_pass(self, A):\n",
    "        A = tf.convert_to_tensor(A, dtype=tf.float32)\n",
    "        for i in range(1, self.L):\n",
    "            Z = tf.matmul(A, tf.transpose(self.W[i])) + tf.transpose(self.b[i])\n",
    "            if i != self.L-1:\n",
    "                A = tf.nn.relu(Z)\n",
    "            else:\n",
    "                A = Z\n",
    "        return A\n",
    "    \n",
    "    \n",
    "    def compute_loss(self, A, Y):\n",
    "        return tf.reduce_mean(tf.nn.softmax_cross_entropy_with_logits(Y, A))\n",
    "    \n",
    "    \n",
    "    def update_params(self, lr):\n",
    "        for i in range(1, self.L):\n",
    "            self.W[i].assign_sub(lr * self.dW[i])\n",
    "            self.b[i].assign_sub(lr * self.db[i])\n",
    "            \n",
    "    def predict(self, X):\n",
    "        A = self.forward_pass(X)\n",
    "        return tf.argmax(tf.nn.softmax(A), axis=1)\n",
    "    \n",
    "    def info(self):\n",
    "        num_params = 0\n",
    "        for i in range(1, self.L):\n",
    "            num_params += self.W[i].shape[0] * self.W[i].shape[1]\n",
    "            num_params += self.b[i].shape[0]\n",
    "        print('Input Features:', self.num_features)\n",
    "        print('Number of Classes:', self.num_classes)\n",
    "        print('Hidden Layers:')\n",
    "        print('--------------')\n",
    "        for i in range(1, self.L-1):\n",
    "            print('Layer {}, Units {}'.format(i, self.layers[i]))\n",
    "        print('--------------')\n",
    "        print('Number of parameters:', num_params)\n",
    "        \n",
    "    \n",
    "    def train_on_batch(self, X, Y, lr):\n",
    "        X = tf.convert_to_tensor(X, dtype=tf.float32)\n",
    "        Y = tf.convert_to_tensor(Y, dtype=tf.float32)\n",
    "        \n",
    "        with tf.GradientTape(persistent=True) as tape:\n",
    "            A = self.forward_pass(X)\n",
    "            loss = self.compute_loss(A, Y)\n",
    "        for key in self.W.keys():\n",
    "            self.dW[key] = tape.gradient(loss, self.W[key])\n",
    "            self.db[key] = tape.gradient(loss, self.b[key])\n",
    "        del tape\n",
    "        self.update_params(lr)\n",
    "        \n",
    "        return loss.numpy()\n",
    "    \n",
    "    \n",
    "    def train(self, x_train, y_train, x_test, y_test, batch_size=64, epochs=10, lr=1e-3):  #  ,  steps_per_epoch, \n",
    "        history = {\n",
    "            'val_loss': [],\n",
    "            'train_loss': [],\n",
    "            'val_acc': [],\n",
    "            'train_acc': []\n",
    "        }\n",
    "        steps_per_epoch = int(x_train.shape[0]/batch_size)\n",
    "        \n",
    "        for e in range(0, epochs):\n",
    "            epoch_train_loss = 0.\n",
    "            print('Epoch {}'.format(e), end='.')\n",
    "            for i in range(0, steps_per_epoch):\n",
    "                x_batch = x_train[i*batch_size:(i+1)*batch_size]\n",
    "                y_batch = y_train[i*batch_size:(i+1)*batch_size]\n",
    "                batch_loss = self.train_on_batch(x_batch, y_batch, lr)\n",
    "                epoch_train_loss += batch_loss\n",
    "                \n",
    "                if i%int(steps_per_epoch/10) == 0:\n",
    "                    print(end='.')\n",
    "                    \n",
    "            history['train_loss'].append(epoch_train_loss/steps_per_epoch)\n",
    "            \n",
    "            val_A = self.forward_pass(x_test)\n",
    "            history['val_loss'].append(self.compute_loss(val_A, y_test).numpy())\n",
    "            \n",
    "            train_preds = self.predict(x_batch)\n",
    "            history['train_acc'].append(np.mean(np.argmax(y_batch, axis=1) == train_preds.numpy()))\n",
    "            val_preds = self.predict(x_test)\n",
    "            history['val_acc'].append(np.mean(np.argmax(y_test, axis=1) == val_preds.numpy()))\n",
    "            print('Train Acc:', history['train_acc'][-1], end=' --- ')\n",
    "            print('Val Acc:', history['val_acc'][-1])\n",
    "        return history"
   ]
  },
  {
   "cell_type": "markdown",
   "metadata": {},
   "source": [
    "## Testing out the MLP"
   ]
  },
  {
   "cell_type": "markdown",
   "metadata": {},
   "source": [
    "### Importing  dataset"
   ]
  },
  {
   "cell_type": "code",
   "execution_count": 3,
   "metadata": {},
   "outputs": [],
   "source": [
    "(x_train, y_train), (x_test, y_test) = tf.keras.datasets.mnist.load_data()\n",
    "x_train = np.reshape(x_train, (x_train.shape[0], 784))/255.\n",
    "x_test = np.reshape(x_test, (x_test.shape[0], 784))/255.\n",
    "y_train = tf.keras.utils.to_categorical(y_train)\n",
    "y_test = tf.keras.utils.to_categorical(y_test)"
   ]
  },
  {
   "cell_type": "code",
   "execution_count": 4,
   "metadata": {},
   "outputs": [
    {
     "data": {
      "image/png": "[encoded data removed]",
      "text/plain": [
       "<Figure size 720x360 with 10 Axes>"
      ]
     },
     "metadata": {
      "needs_background": "light"
     },
     "output_type": "display_data"
    }
   ],
   "source": [
    "plt.figure(figsize=(10, 5))\n",
    "\n",
    "for i, index in enumerate(range(10)):\n",
    "    plt.subplot(2, 5, i+1)\n",
    "    plt.imshow(x_train[index].reshape((28, 28)), cmap='binary')"
   ]
  },
  {
   "cell_type": "code",
   "execution_count": 5,
   "metadata": {},
   "outputs": [
    {
     "name": "stdout",
     "output_type": "stream",
     "text": [
      "Input Features: 784\n",
      "Number of Classes: 10\n",
      "Hidden Layers:\n",
      "--------------\n",
      "Layer 1, Units 128\n",
      "Layer 2, Units 128\n",
      "--------------\n",
      "Number of parameters: 118282\n"
     ]
    }
   ],
   "source": [
    "mlp = MLP([784, 128, 128, 10])\n",
    "mlp.info()"
   ]
  },
  {
   "cell_type": "code",
   "execution_count": 6,
   "metadata": {},
   "outputs": [],
   "source": [
    "batch_size = 16\n",
    "epochs = 1\n",
    "# steps_per_epoch = int(x_train.shape[0]/batch_size)\n",
    "lr = 1\n",
    "\n",
    "# print('Steps per epoch:', steps_per_epoch)"
   ]
  },
  {
   "cell_type": "code",
   "execution_count": null,
   "metadata": {},
   "outputs": [
    {
     "name": "stdout",
     "output_type": "stream",
     "text": [
      "Epoch 0...........Train Acc: 1.0 --- Val Acc: 0.0974\n",
      "Epoch 1...........Train Acc: 1.0 --- Val Acc: 0.0974\n",
      "Epoch 2...........Train Acc: 1.0 --- Val Acc: 0.0974\n",
      "Epoch 3...........Train Acc: 1.0 --- Val Acc: 0.0974\n",
      "Epoch 4...........Train Acc: 1.0 --- Val Acc: 0.0974\n",
      "Epoch 5..........."
     ]
    }
   ],
   "source": [
    "history = mlp.train(\n",
    "    x_train, y_train,\n",
    "    x_test, y_test,\n",
    "    epochs, batch_size, lr\n",
    ")"
   ]
  },
  {
   "cell_type": "code",
   "execution_count": null,
   "metadata": {},
   "outputs": [],
   "source": [
    "plt.figure(figsize=(12, 4))\n",
    "epochs = len(history['val_loss'])\n",
    "plt.subplot(1, 2, 1)\n",
    "plt.plot(range(epochs), history['val_loss'], label='Val Loss')\n",
    "plt.plot(range(epochs), history['train_loss'], label='Train Loss')\n",
    "plt.xticks(list(range(epochs)))\n",
    "plt.xlabel('Epochs')\n",
    "plt.ylabel('Loss')\n",
    "plt.legend()\n",
    "plt.subplot(1, 2, 2)\n",
    "plt.plot(range(epochs), history['val_acc'], label='Val Acc')\n",
    "plt.plot(range(epochs), history['train_acc'], label='Train Acc')\n",
    "plt.xticks(list(range(epochs)))\n",
    "plt.xlabel('Epochs')\n",
    "plt.ylabel('Accuracy')\n",
    "plt.legend()\n",
    "plt.show()"
   ]
  },
  {
   "cell_type": "code",
   "execution_count": null,
   "metadata": {},
   "outputs": [],
   "source": [
    "preds = mlp.predict(x_test)"
   ]
  },
  {
   "cell_type": "code",
   "execution_count": null,
   "metadata": {},
   "outputs": [],
   "source": []
  },
  {
   "cell_type": "code",
   "execution_count": null,
   "metadata": {},
   "outputs": [],
   "source": []
  }
 ],
 "metadata": {
  "kernelspec": {
   "display_name": "tf2",
   "language": "python",
   "name": "tf2"
  },
  "language_info": {
   "codemirror_mode": {
    "name": "ipython",
    "version": 3
   },
   "file_extension": ".py",
   "mimetype": "text/x-python",
   "name": "python",
   "nbconvert_exporter": "python",
   "pygments_lexer": "ipython3",
   "version": "3.8.5"
  }
 },
 "nbformat": 4,
 "nbformat_minor": 4
}
