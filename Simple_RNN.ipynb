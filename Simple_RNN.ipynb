{
 "cells": [
  {
   "cell_type": "markdown",
   "metadata": {},
   "source": [
    "# Making RNN learn addition, subtraction, multiplication and division"
   ]
  },
  {
   "cell_type": "code",
   "execution_count": 1,
   "metadata": {},
   "outputs": [],
   "source": [
    "import numpy as np\n",
    "\n",
    "from tensorflow.keras.models import Sequential\n",
    "from tensorflow.keras.layers import TimeDistributed, Dense, Dropout, SimpleRNN, RepeatVector\n",
    "from tensorflow.keras.callbacks import EarlyStopping, LambdaCallback\n",
    "\n",
    "from termcolor import colored"
   ]
  },
  {
   "cell_type": "markdown",
   "metadata": {},
   "source": [
    "## Generating Data"
   ]
  },
  {
   "cell_type": "code",
   "execution_count": 2,
   "metadata": {
    "colab": {
     "base_uri": "https://localhost:8080/",
     "height": 34
    },
    "colab_type": "code",
    "id": "hP-OyQrivBNl",
    "outputId": "70a8ce77-3241-4ea9-dbc7-d9bebb3789f3"
   },
   "outputs": [
    {
     "data": {
      "text/plain": [
       "14"
      ]
     },
     "execution_count": 2,
     "metadata": {},
     "output_type": "execute_result"
    }
   ],
   "source": [
    "all_chars = \"1234567890+-/*\"\n",
    "num_features = len(all_chars)\n",
    "num_features"
   ]
  },
  {
   "cell_type": "code",
   "execution_count": 3,
   "metadata": {},
   "outputs": [],
   "source": [
    "# Tokenizing the characters\n",
    "char_to_idx = {c:i for i,c in enumerate(all_chars)}\n",
    "idx_to_char = {i:c for i,c in enumerate(all_chars)}"
   ]
  },
  {
   "cell_type": "code",
   "execution_count": 38,
   "metadata": {},
   "outputs": [],
   "source": [
    "def random_operation(num1, num2):\n",
    "    \"\"\"Applies random operation from `+ - * /` and return result and operator\"\"\"\n",
    "    \n",
    "    operator = np.random.choice(['+', '-', '*', '/'])\n",
    "    result = 0\n",
    "    if operator == '+':\n",
    "        result = num1 + num2\n",
    "    elif operator == '-':\n",
    "        result = num1 - num2\n",
    "    elif operator == '*':\n",
    "        result = num1 * num2\n",
    "    elif operator == '/':\n",
    "        result = num1 / num2\n",
    "\n",
    "    return result, operator"
   ]
  },
  {
   "cell_type": "code",
   "execution_count": 77,
   "metadata": {},
   "outputs": [
    {
     "data": {
      "text/plain": [
       "(1.0, '/')"
      ]
     },
     "execution_count": 77,
     "metadata": {},
     "output_type": "execute_result"
    }
   ],
   "source": [
    "random_operation(5,5)"
   ]
  },
  {
   "cell_type": "code",
   "execution_count": 94,
   "metadata": {
    "colab": {},
    "colab_type": "code",
    "id": "L2b1Xg9hvBNr"
   },
   "outputs": [
    {
     "data": {
      "text/plain": [
       "('64-31', '33')"
      ]
     },
     "execution_count": 94,
     "metadata": {},
     "output_type": "execute_result"
    }
   ],
   "source": [
    "def generate_data():\n",
    "    \"\"\"Generates sample(str) - results(str) pair \"\"\"\n",
    "    first_num = np.random.randint(0,100)\n",
    "    second_num = np.random.randint(0,100)\n",
    "    res, opr = random_operation(first_num, second_num)\n",
    "    sample = str(first_num) + opr + str(second_num)\n",
    "    label = str(res)\n",
    "    return (sample, label)\n",
    "\n",
    "# Test\n",
    "generate_data()"
   ]
  },
  {
   "cell_type": "markdown",
   "metadata": {},
   "source": [
    "## Create the Model"
   ]
  },
  {
   "cell_type": "code",
   "execution_count": null,
   "metadata": {
    "colab": {
     "base_uri": "https://localhost:8080/",
     "height": 377
    },
    "colab_type": "code",
    "id": "iZKl0LtdvBNy",
    "outputId": "34a3c344-5985-4e3b-e1ac-392c18739308"
   },
   "outputs": [],
   "source": [
    "hidden_units = 128\n",
    "max_timesteps = 5\n",
    "\n",
    "model = Sequential([\n",
    "    # Encoder\n",
    "    SimpleRNN(hidden_units, input_shape=(None, num_features)),\n",
    "    RepeatVector(max_timesteps),\n",
    "    # Decoder\n",
    "    SimpleRNN(hidden_units, return_sequences=True),\n",
    "    TimeDistributed(Dense(num_features, activation=\"softmax\"))\n",
    "])\n",
    "\n",
    "model.compile('adam', loss='categorical_crossentropy', metrics=['accuracy'])\n",
    "\n",
    "model.summary()"
   ]
  },
  {
   "cell_type": "markdown",
   "metadata": {},
   "source": [
    "## Vectorize and De-Vectorize Data"
   ]
  },
  {
   "cell_type": "code",
   "execution_count": null,
   "metadata": {
    "colab": {},
    "colab_type": "code",
    "id": "Ci29YaA6vBN1"
   },
   "outputs": [],
   "source": [
    " def vectorize_sample(sample, label):\n",
    "    x = np.zeros((max_timesteps, num_features))\n",
    "    y = np.zeros((max_timesteps, num_features))\n",
    "    \n",
    "    diff_x = max_timesteps - len(sample)\n",
    "    diff_y = max_timesteps - len(label)\n",
    "    \n",
    "    for i, c in enumerate(sample):\n",
    "        x[diff_x + i, char_to_idx[c]] = 1\n",
    "    for i in range(diff_x):\n",
    "        x[i, char_to_idx['0']] = 1\n",
    "    \n",
    "    for i, c in enumerate(label):\n",
    "        y[diff_y + i, char_to_idx[c]] = 1\n",
    "    for i in range(diff_y):\n",
    "        y[i, char_to_idx['0']] = 1\n",
    "    \n",
    "    return (x,y)"
   ]
  },
  {
   "cell_type": "code",
   "execution_count": null,
   "metadata": {},
   "outputs": [],
   "source": [
    "s1,l1 = generate_data()\n",
    "print(s1 +' = ' + l1)\n",
    "s1v, l1v = vectorize_sample(s1, l1)\n",
    "# print(s1v)\n",
    "# print(l1v)"
   ]
  },
  {
   "cell_type": "code",
   "execution_count": 8,
   "metadata": {
    "colab": {},
    "colab_type": "code",
    "id": "_nARKq-bvBN9"
   },
   "outputs": [],
   "source": [
    "def devectorize_sample(sample):\n",
    "    sample_char_list = [idx_to_char[i] for i in np.argmax(sample, axis=1)]\n",
    "    sample = ''.join(sample_char_list).lstrip('0')\n",
    "    return sample"
   ]
  },
  {
   "cell_type": "code",
   "execution_count": 9,
   "metadata": {
    "colab": {
     "base_uri": "https://localhost:8080/",
     "height": 34
    },
    "colab_type": "code",
    "id": "KCGUxNwNvBOA",
    "outputId": "a721451a-7f7c-42be-bdf0-0c96381f2eb2"
   },
   "outputs": [
    {
     "data": {
      "text/plain": [
       "'86'"
      ]
     },
     "execution_count": 9,
     "metadata": {},
     "output_type": "execute_result"
    }
   ],
   "source": [
    "devectorize_sample(l1v)"
   ]
  },
  {
   "cell_type": "markdown",
   "metadata": {},
   "source": [
    "## Creating Trainset"
   ]
  },
  {
   "cell_type": "code",
   "execution_count": 10,
   "metadata": {
    "colab": {
     "base_uri": "https://localhost:8080/",
     "height": 34
    },
    "colab_type": "code",
    "id": "T5rdrhiVvBOI",
    "outputId": "426b3722-78cf-494f-8bbf-1cdf7eab3113"
   },
   "outputs": [],
   "source": [
    "def create_dataset(num_sample=5000):\n",
    "    x = np.zeros((num_sample, max_timesteps, num_features))\n",
    "    y = np.zeros((num_sample, max_timesteps, num_features))\n",
    "    \n",
    "    for i in range(num_sample):\n",
    "        s, l = generate_data()\n",
    "        sv, lv = vectorize_sample(s,l)\n",
    "        x[i] = sv\n",
    "        y[i] = lv\n",
    "    \n",
    "    return x, y"
   ]
  },
  {
   "cell_type": "code",
   "execution_count": 11,
   "metadata": {
    "colab": {
     "base_uri": "https://localhost:8080/",
     "height": 34
    },
    "colab_type": "code",
    "id": "cRUvtd0IvBOO",
    "outputId": "d07ce279-06ba-44c4-de91-0ec4fb551877"
   },
   "outputs": [
    {
     "name": "stdout",
     "output_type": "stream",
     "text": [
      "(5000, 5, 11) (5000, 5, 11)\n"
     ]
    }
   ],
   "source": [
    "x_train, y_train = create_dataset()\n",
    "print(x_data.shape, y_data.shape)"
   ]
  },
  {
   "cell_type": "code",
   "execution_count": 12,
   "metadata": {},
   "outputs": [
    {
     "data": {
      "text/plain": [
       "('69+27', '96')"
      ]
     },
     "execution_count": 12,
     "metadata": {},
     "output_type": "execute_result"
    }
   ],
   "source": [
    "devectorize_sample(x_train[0]), devectorize_sample(y_train[0])"
   ]
  },
  {
   "cell_type": "markdown",
   "metadata": {},
   "source": [
    "## Training the Model"
   ]
  },
  {
   "cell_type": "code",
   "execution_count": null,
   "metadata": {
    "colab": {
     "base_uri": "https://localhost:8080/",
     "height": 2686
    },
    "colab_type": "code",
    "id": "S8HWRdiOvBOS",
    "outputId": "2365b11f-30e8-48cc-e940-4d3267771fbe"
   },
   "outputs": [],
   "source": [
    "lb_cb = LambdaCallback(\n",
    "    on_epoch_end=lambda e, l: print('->{:.2f}'.format(l['val_acc']), end='')\n",
    ")\n",
    "es_cb = EarlyStopping(monitor='val_loss', patience=5)\n",
    "\n",
    "model.fit(x_train, y_train, epochs=100, batch_size=256, validation_split=0.1,\n",
    "          callbacks=[lb_cb, es_cb], verbose=0)"
   ]
  },
  {
   "cell_type": "code",
   "execution_count": 14,
   "metadata": {
    "colab": {
     "base_uri": "https://localhost:8080/",
     "height": 187
    },
    "colab_type": "code",
    "id": "tlNtu_9ZvBOY",
    "outputId": "82198555-f0e8-4a7a-9125-cc61cf4f4a26"
   },
   "outputs": [
    {
     "name": "stdout",
     "output_type": "stream",
     "text": [
      "\u001b[32mSample: 61+91 Actual: 152 Predicted: 152\u001b[0m\n",
      "\u001b[32mSample: 93+21 Actual: 114 Predicted: 114\u001b[0m\n",
      "\u001b[32mSample: 90+39 Actual: 129 Predicted: 129\u001b[0m\n",
      "\u001b[32mSample: 87+30 Actual: 117 Predicted: 117\u001b[0m\n",
      "\u001b[32mSample: 85+51 Actual: 136 Predicted: 136\u001b[0m\n",
      "\u001b[32mSample: 73+84 Actual: 157 Predicted: 157\u001b[0m\n",
      "\u001b[32mSample: 34+46 Actual: 80 Predicted: 80\u001b[0m\n",
      "\u001b[32mSample: 50+91 Actual: 141 Predicted: 141\u001b[0m\n",
      "\u001b[32mSample: 2+15 Actual: 17 Predicted: 17\u001b[0m\n",
      "\u001b[32mSample: 39+80 Actual: 119 Predicted: 119\u001b[0m\n"
     ]
    }
   ],
   "source": [
    "x_test, y_test = create_dataset(10)\n",
    "y_pred = model.predict(x_test)\n",
    "\n",
    "for i, pred in enumerate(y_pred):\n",
    "    y = devectorize_sample(y_test[i])\n",
    "    y_hat = devectorize_sample(pred)\n",
    "    col = 'green'\n",
    "    if y!=y_hat:\n",
    "        col = 'red'\n",
    "    out = 'Sample: ' + devectorize_sample(x_test[i]) + ' Actual: ' + y + ' Predicted: ' + y_hat\n",
    "    print(colored(out, col))"
   ]
  },
  {
   "cell_type": "code",
   "execution_count": 15,
   "metadata": {},
   "outputs": [
    {
     "name": "stdout",
     "output_type": "stream",
     "text": [
      "Test Accuracy :: 0.9931999931335449\n"
     ]
    }
   ],
   "source": [
    "x_test, y_test = create_dataset(1000)\n",
    "_, acc = model.evaluate(x_test, y_test, verbose=0)\n",
    "print('Test Accuracy ::', acc)"
   ]
  }
 ],
 "metadata": {
  "accelerator": "GPU",
  "colab": {
   "collapsed_sections": [],
   "name": "addition_simpleRNN.ipynb",
   "provenance": [],
   "version": "0.3.2"
  },
  "kernelspec": {
   "display_name": "tf2",
   "language": "python",
   "name": "tf2"
  },
  "language_info": {
   "codemirror_mode": {
    "name": "ipython",
    "version": 3
   },
   "file_extension": ".py",
   "mimetype": "text/x-python",
   "name": "python",
   "nbconvert_exporter": "python",
   "pygments_lexer": "ipython3",
   "version": "3.8.5"
  }
 },
 "nbformat": 4,
 "nbformat_minor": 4
}
